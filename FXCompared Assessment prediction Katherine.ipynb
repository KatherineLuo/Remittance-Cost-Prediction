{
 "cells": [
  {
   "cell_type": "code",
   "execution_count": 1,
   "metadata": {
    "collapsed": true
   },
   "outputs": [],
   "source": [
    "import pandas as pd\n",
    "import numpy as np\n",
    "#import seaborn as sns\n",
    "import matplotlib\n",
    "import matplotlib.pyplot as plt\n",
    "from scipy.stats import skew\n",
    "\n",
    "import datetime as dt\n",
    "from sklearn.preprocessing import Imputer\n",
    "\n",
    "%matplotlib inline"
   ]
  },
  {
   "cell_type": "code",
   "execution_count": 2,
   "metadata": {
    "collapsed": true
   },
   "outputs": [],
   "source": [
    "bank_df = pd.read_excel(r'dataset_2011_2015_q2_1.xlsx',\n",
    "                       sheetname='Dataset')\n"
   ]
  },
  {
   "cell_type": "code",
   "execution_count": 3,
   "metadata": {
    "collapsed": false
   },
   "outputs": [
    {
     "data": {
      "text/html": [
       "<div>\n",
       "<table border=\"1\" class=\"dataframe\">\n",
       "  <thead>\n",
       "    <tr style=\"text-align: right;\">\n",
       "      <th></th>\n",
       "      <th>id</th>\n",
       "      <th>period</th>\n",
       "      <th>source_code</th>\n",
       "      <th>source_name</th>\n",
       "      <th>source_region</th>\n",
       "      <th>source_income</th>\n",
       "      <th>source_lending</th>\n",
       "      <th>source_G8G20</th>\n",
       "      <th>destination_code</th>\n",
       "      <th>destination_name</th>\n",
       "      <th>...</th>\n",
       "      <th>cc2 lcu fx rate</th>\n",
       "      <th>cc2 fx margin</th>\n",
       "      <th>cc2 total cost %</th>\n",
       "      <th>inter lcu bank fx</th>\n",
       "      <th>transparent</th>\n",
       "      <th>note1</th>\n",
       "      <th>note2</th>\n",
       "      <th>coverage</th>\n",
       "      <th>pick-up method</th>\n",
       "      <th>date</th>\n",
       "    </tr>\n",
       "  </thead>\n",
       "  <tbody>\n",
       "    <tr>\n",
       "      <th>0</th>\n",
       "      <td>13123</td>\n",
       "      <td>2011_1Q</td>\n",
       "      <td>AUS</td>\n",
       "      <td>Australia</td>\n",
       "      <td>..</td>\n",
       "      <td>High income: OECD</td>\n",
       "      <td>..</td>\n",
       "      <td>G20</td>\n",
       "      <td>FJI</td>\n",
       "      <td>Fiji</td>\n",
       "      <td>...</td>\n",
       "      <td>1.770000</td>\n",
       "      <td>3.29</td>\n",
       "      <td>5.29</td>\n",
       "      <td>1.83024</td>\n",
       "      <td>yes</td>\n",
       "      <td>NaN</td>\n",
       "      <td>NaN</td>\n",
       "      <td>Nationwide</td>\n",
       "      <td>Cash</td>\n",
       "      <td>24/Jan/2011</td>\n",
       "    </tr>\n",
       "    <tr>\n",
       "      <th>1</th>\n",
       "      <td>13129</td>\n",
       "      <td>2011_1Q</td>\n",
       "      <td>AUS</td>\n",
       "      <td>Australia</td>\n",
       "      <td>..</td>\n",
       "      <td>High income: OECD</td>\n",
       "      <td>..</td>\n",
       "      <td>G20</td>\n",
       "      <td>FJI</td>\n",
       "      <td>Fiji</td>\n",
       "      <td>...</td>\n",
       "      <td>1.767737</td>\n",
       "      <td>3.42</td>\n",
       "      <td>5.82</td>\n",
       "      <td>1.83024</td>\n",
       "      <td>yes</td>\n",
       "      <td>NaN</td>\n",
       "      <td>NaN</td>\n",
       "      <td>Nationwide</td>\n",
       "      <td>Cash</td>\n",
       "      <td>24/Jan/2011</td>\n",
       "    </tr>\n",
       "    <tr>\n",
       "      <th>2</th>\n",
       "      <td>13128</td>\n",
       "      <td>2011_1Q</td>\n",
       "      <td>AUS</td>\n",
       "      <td>Australia</td>\n",
       "      <td>..</td>\n",
       "      <td>High income: OECD</td>\n",
       "      <td>..</td>\n",
       "      <td>G20</td>\n",
       "      <td>FJI</td>\n",
       "      <td>Fiji</td>\n",
       "      <td>...</td>\n",
       "      <td>1.750000</td>\n",
       "      <td>4.38</td>\n",
       "      <td>7.38</td>\n",
       "      <td>1.83024</td>\n",
       "      <td>yes</td>\n",
       "      <td>NaN</td>\n",
       "      <td>NaN</td>\n",
       "      <td>Nationwide</td>\n",
       "      <td>Cash</td>\n",
       "      <td>24/Jan/2011</td>\n",
       "    </tr>\n",
       "    <tr>\n",
       "      <th>3</th>\n",
       "      <td>13127</td>\n",
       "      <td>2011_1Q</td>\n",
       "      <td>AUS</td>\n",
       "      <td>Australia</td>\n",
       "      <td>..</td>\n",
       "      <td>High income: OECD</td>\n",
       "      <td>..</td>\n",
       "      <td>G20</td>\n",
       "      <td>FJI</td>\n",
       "      <td>Fiji</td>\n",
       "      <td>...</td>\n",
       "      <td>1.791400</td>\n",
       "      <td>2.12</td>\n",
       "      <td>6.12</td>\n",
       "      <td>1.83024</td>\n",
       "      <td>yes</td>\n",
       "      <td>NaN</td>\n",
       "      <td>NaN</td>\n",
       "      <td>Nationwide</td>\n",
       "      <td>Bank Account</td>\n",
       "      <td>24/Jan/2011</td>\n",
       "    </tr>\n",
       "    <tr>\n",
       "      <th>4</th>\n",
       "      <td>13135</td>\n",
       "      <td>2011_1Q</td>\n",
       "      <td>AUS</td>\n",
       "      <td>Australia</td>\n",
       "      <td>..</td>\n",
       "      <td>High income: OECD</td>\n",
       "      <td>..</td>\n",
       "      <td>G20</td>\n",
       "      <td>FJI</td>\n",
       "      <td>Fiji</td>\n",
       "      <td>...</td>\n",
       "      <td>1.764200</td>\n",
       "      <td>3.61</td>\n",
       "      <td>7.61</td>\n",
       "      <td>1.83024</td>\n",
       "      <td>yes</td>\n",
       "      <td>NaN</td>\n",
       "      <td>NaN</td>\n",
       "      <td>Nationwide</td>\n",
       "      <td>Bank Account</td>\n",
       "      <td>24/Jan/2011</td>\n",
       "    </tr>\n",
       "  </tbody>\n",
       "</table>\n",
       "<p>5 rows × 40 columns</p>\n",
       "</div>"
      ],
      "text/plain": [
       "      id   period source_code source_name source_region      source_income  \\\n",
       "0  13123  2011_1Q         AUS   Australia            ..  High income: OECD   \n",
       "1  13129  2011_1Q         AUS   Australia            ..  High income: OECD   \n",
       "2  13128  2011_1Q         AUS   Australia            ..  High income: OECD   \n",
       "3  13127  2011_1Q         AUS   Australia            ..  High income: OECD   \n",
       "4  13135  2011_1Q         AUS   Australia            ..  High income: OECD   \n",
       "\n",
       "  source_lending source_G8G20 destination_code destination_name     ...       \\\n",
       "0             ..          G20              FJI             Fiji     ...        \n",
       "1             ..          G20              FJI             Fiji     ...        \n",
       "2             ..          G20              FJI             Fiji     ...        \n",
       "3             ..          G20              FJI             Fiji     ...        \n",
       "4             ..          G20              FJI             Fiji     ...        \n",
       "\n",
       "  cc2 lcu fx rate cc2 fx margin cc2 total cost % inter lcu bank fx  \\\n",
       "0        1.770000          3.29             5.29           1.83024   \n",
       "1        1.767737          3.42             5.82           1.83024   \n",
       "2        1.750000          4.38             7.38           1.83024   \n",
       "3        1.791400          2.12             6.12           1.83024   \n",
       "4        1.764200          3.61             7.61           1.83024   \n",
       "\n",
       "  transparent note1 note2    coverage pick-up method         date  \n",
       "0         yes   NaN   NaN  Nationwide           Cash  24/Jan/2011  \n",
       "1         yes   NaN   NaN  Nationwide           Cash  24/Jan/2011  \n",
       "2         yes   NaN   NaN  Nationwide           Cash  24/Jan/2011  \n",
       "3         yes   NaN   NaN  Nationwide   Bank Account  24/Jan/2011  \n",
       "4         yes   NaN   NaN  Nationwide   Bank Account  24/Jan/2011  \n",
       "\n",
       "[5 rows x 40 columns]"
      ]
     },
     "execution_count": 3,
     "metadata": {},
     "output_type": "execute_result"
    }
   ],
   "source": [
    "bank_df.head()"
   ]
  },
  {
   "cell_type": "code",
   "execution_count": 4,
   "metadata": {
    "collapsed": false
   },
   "outputs": [
    {
     "name": "stderr",
     "output_type": "stream",
     "text": [
      "RuntimeWarning: Invalid value encountered in percentile\n",
      "  RuntimeWarning)\n"
     ]
    },
    {
     "data": {
      "text/html": [
       "<div>\n",
       "<table border=\"1\" class=\"dataframe\">\n",
       "  <thead>\n",
       "    <tr style=\"text-align: right;\">\n",
       "      <th></th>\n",
       "      <th>id</th>\n",
       "      <th>cc1 lcu amount</th>\n",
       "      <th>cc1 denomination amount</th>\n",
       "      <th>cc1 lcu fee</th>\n",
       "      <th>cc1 lcu fx rate</th>\n",
       "      <th>cc1 fx margin</th>\n",
       "      <th>cc1 total cost %</th>\n",
       "      <th>cc2 lcu amount</th>\n",
       "      <th>cc2 denomination amount</th>\n",
       "      <th>cc2 lcu fee</th>\n",
       "      <th>cc2 lcu fx rate</th>\n",
       "      <th>cc2 fx margin</th>\n",
       "      <th>cc2 total cost %</th>\n",
       "      <th>inter lcu bank fx</th>\n",
       "    </tr>\n",
       "  </thead>\n",
       "  <tbody>\n",
       "    <tr>\n",
       "      <th>count</th>\n",
       "      <td>39853.000000</td>\n",
       "      <td>39750.000000</td>\n",
       "      <td>39773.000000</td>\n",
       "      <td>39847.000000</td>\n",
       "      <td>39853.000000</td>\n",
       "      <td>39852.000000</td>\n",
       "      <td>39853.000000</td>\n",
       "      <td>39852.000000</td>\n",
       "      <td>39775.000000</td>\n",
       "      <td>39730.000000</td>\n",
       "      <td>39644.000000</td>\n",
       "      <td>39752.000000</td>\n",
       "      <td>39751.000000</td>\n",
       "      <td>39853.000000</td>\n",
       "    </tr>\n",
       "    <tr>\n",
       "      <th>mean</th>\n",
       "      <td>26790.166386</td>\n",
       "      <td>9394.382156</td>\n",
       "      <td>200.000025</td>\n",
       "      <td>1063.705353</td>\n",
       "      <td>373.959745</td>\n",
       "      <td>1.785430</td>\n",
       "      <td>8.652767</td>\n",
       "      <td>23318.896762</td>\n",
       "      <td>500.000075</td>\n",
       "      <td>1194.615528</td>\n",
       "      <td>370.632236</td>\n",
       "      <td>1.785907</td>\n",
       "      <td>5.147292</td>\n",
       "      <td>382.819580</td>\n",
       "    </tr>\n",
       "    <tr>\n",
       "      <th>std</th>\n",
       "      <td>14876.331816</td>\n",
       "      <td>46041.976589</td>\n",
       "      <td>0.005014</td>\n",
       "      <td>7867.826622</td>\n",
       "      <td>2104.899846</td>\n",
       "      <td>2.344927</td>\n",
       "      <td>6.588614</td>\n",
       "      <td>114557.836297</td>\n",
       "      <td>0.008684</td>\n",
       "      <td>8182.159794</td>\n",
       "      <td>2087.539747</td>\n",
       "      <td>2.344367</td>\n",
       "      <td>3.579412</td>\n",
       "      <td>2158.719017</td>\n",
       "    </tr>\n",
       "    <tr>\n",
       "      <th>min</th>\n",
       "      <td>1.000000</td>\n",
       "      <td>120.000000</td>\n",
       "      <td>200.000000</td>\n",
       "      <td>0.000000</td>\n",
       "      <td>0.000300</td>\n",
       "      <td>-16.580000</td>\n",
       "      <td>-8.970000</td>\n",
       "      <td>0.000000</td>\n",
       "      <td>500.000000</td>\n",
       "      <td>0.000000</td>\n",
       "      <td>0.000300</td>\n",
       "      <td>-16.580000</td>\n",
       "      <td>-13.420000</td>\n",
       "      <td>0.000310</td>\n",
       "    </tr>\n",
       "    <tr>\n",
       "      <th>25%</th>\n",
       "      <td>14084.000000</td>\n",
       "      <td>NaN</td>\n",
       "      <td>NaN</td>\n",
       "      <td>NaN</td>\n",
       "      <td>1.000000</td>\n",
       "      <td>NaN</td>\n",
       "      <td>4.250000</td>\n",
       "      <td>NaN</td>\n",
       "      <td>NaN</td>\n",
       "      <td>NaN</td>\n",
       "      <td>NaN</td>\n",
       "      <td>NaN</td>\n",
       "      <td>NaN</td>\n",
       "      <td>1.000000</td>\n",
       "    </tr>\n",
       "    <tr>\n",
       "      <th>50%</th>\n",
       "      <td>29813.000000</td>\n",
       "      <td>NaN</td>\n",
       "      <td>NaN</td>\n",
       "      <td>NaN</td>\n",
       "      <td>2.740000</td>\n",
       "      <td>NaN</td>\n",
       "      <td>6.910000</td>\n",
       "      <td>NaN</td>\n",
       "      <td>NaN</td>\n",
       "      <td>NaN</td>\n",
       "      <td>NaN</td>\n",
       "      <td>NaN</td>\n",
       "      <td>NaN</td>\n",
       "      <td>2.826500</td>\n",
       "    </tr>\n",
       "    <tr>\n",
       "      <th>75%</th>\n",
       "      <td>39796.000000</td>\n",
       "      <td>NaN</td>\n",
       "      <td>NaN</td>\n",
       "      <td>NaN</td>\n",
       "      <td>43.360000</td>\n",
       "      <td>NaN</td>\n",
       "      <td>11.180000</td>\n",
       "      <td>NaN</td>\n",
       "      <td>NaN</td>\n",
       "      <td>NaN</td>\n",
       "      <td>NaN</td>\n",
       "      <td>NaN</td>\n",
       "      <td>NaN</td>\n",
       "      <td>44.330000</td>\n",
       "    </tr>\n",
       "    <tr>\n",
       "      <th>max</th>\n",
       "      <td>49754.000000</td>\n",
       "      <td>324500.000000</td>\n",
       "      <td>201.000000</td>\n",
       "      <td>146025.000000</td>\n",
       "      <td>28662.686000</td>\n",
       "      <td>36.050000</td>\n",
       "      <td>75.000000</td>\n",
       "      <td>811000.000000</td>\n",
       "      <td>501.000000</td>\n",
       "      <td>145980.000000</td>\n",
       "      <td>28662.686000</td>\n",
       "      <td>36.050000</td>\n",
       "      <td>42.650000</td>\n",
       "      <td>29667.100000</td>\n",
       "    </tr>\n",
       "  </tbody>\n",
       "</table>\n",
       "</div>"
      ],
      "text/plain": [
       "                 id  cc1 lcu amount  cc1 denomination amount    cc1 lcu fee  \\\n",
       "count  39853.000000    39750.000000             39773.000000   39847.000000   \n",
       "mean   26790.166386     9394.382156               200.000025    1063.705353   \n",
       "std    14876.331816    46041.976589                 0.005014    7867.826622   \n",
       "min        1.000000      120.000000               200.000000       0.000000   \n",
       "25%    14084.000000             NaN                      NaN            NaN   \n",
       "50%    29813.000000             NaN                      NaN            NaN   \n",
       "75%    39796.000000             NaN                      NaN            NaN   \n",
       "max    49754.000000   324500.000000               201.000000  146025.000000   \n",
       "\n",
       "       cc1 lcu fx rate  cc1 fx margin  cc1 total cost %  cc2 lcu amount  \\\n",
       "count     39853.000000   39852.000000      39853.000000    39852.000000   \n",
       "mean        373.959745       1.785430          8.652767    23318.896762   \n",
       "std        2104.899846       2.344927          6.588614   114557.836297   \n",
       "min           0.000300     -16.580000         -8.970000        0.000000   \n",
       "25%           1.000000            NaN          4.250000             NaN   \n",
       "50%           2.740000            NaN          6.910000             NaN   \n",
       "75%          43.360000            NaN         11.180000             NaN   \n",
       "max       28662.686000      36.050000         75.000000   811000.000000   \n",
       "\n",
       "       cc2 denomination amount    cc2 lcu fee  cc2 lcu fx rate  cc2 fx margin  \\\n",
       "count             39775.000000   39730.000000     39644.000000   39752.000000   \n",
       "mean                500.000075    1194.615528       370.632236       1.785907   \n",
       "std                   0.008684    8182.159794      2087.539747       2.344367   \n",
       "min                 500.000000       0.000000         0.000300     -16.580000   \n",
       "25%                        NaN            NaN              NaN            NaN   \n",
       "50%                        NaN            NaN              NaN            NaN   \n",
       "75%                        NaN            NaN              NaN            NaN   \n",
       "max                 501.000000  145980.000000     28662.686000      36.050000   \n",
       "\n",
       "       cc2 total cost %  inter lcu bank fx  \n",
       "count      39751.000000       39853.000000  \n",
       "mean           5.147292         382.819580  \n",
       "std            3.579412        2158.719017  \n",
       "min          -13.420000           0.000310  \n",
       "25%                 NaN           1.000000  \n",
       "50%                 NaN           2.826500  \n",
       "75%                 NaN          44.330000  \n",
       "max           42.650000       29667.100000  "
      ]
     },
     "execution_count": 4,
     "metadata": {},
     "output_type": "execute_result"
    }
   ],
   "source": [
    "bank_df.describe()"
   ]
  },
  {
   "cell_type": "code",
   "execution_count": 5,
   "metadata": {
    "collapsed": false
   },
   "outputs": [
    {
     "data": {
      "text/plain": [
       "Index(['id', 'period', 'source_code', 'source_name', 'source_region',\n",
       "       'source_income', 'source_lending', 'source_G8G20', 'destination_code',\n",
       "       'destination_name', 'destination_region', 'destination_income',\n",
       "       'destination_lending', 'destination_G8G20', 'firm', 'firm_type',\n",
       "       'product', 'sending location', 'speed actual', 'cc1 lcu amount',\n",
       "       'cc1 denomination amount', 'cc1 lcu code', 'cc1 lcu fee',\n",
       "       'cc1 lcu fx rate', 'cc1 fx margin', 'cc1 total cost %',\n",
       "       'cc2 lcu amount', 'cc2 denomination amount', 'cc2 lcu code',\n",
       "       'cc2 lcu fee', 'cc2 lcu fx rate', 'cc2 fx margin', 'cc2 total cost %',\n",
       "       'inter lcu bank fx', 'transparent', 'note1', 'note2', 'coverage',\n",
       "       'pick-up method', 'date'],\n",
       "      dtype='object')"
      ]
     },
     "execution_count": 5,
     "metadata": {},
     "output_type": "execute_result"
    }
   ],
   "source": [
    "bank_df.columns"
   ]
  },
  {
   "cell_type": "code",
   "execution_count": 6,
   "metadata": {
    "collapsed": false
   },
   "outputs": [
    {
     "data": {
      "image/png": "[encoded data removed]",
      "text/plain": [
       "<matplotlib.figure.Figure at 0xadee668>"
      ]
     },
     "metadata": {},
     "output_type": "display_data"
    }
   ],
   "source": [
    "plt.scatter(bank_df['cc1 total cost %'], bank_df['cc2 total cost %'], \n",
    "            alpha=0.7)\n",
    "plt.xlabel('cc1 total cost %')\n",
    "plt.ylabel('cc2 total cost % ')\n",
    "plt.title('cc1 and 2 total cost % plot')\n",
    "plt.show()"
   ]
  },
  {
   "cell_type": "code",
   "execution_count": 7,
   "metadata": {
    "collapsed": false
   },
   "outputs": [
    {
     "data": {
      "text/plain": [
       "array([[<matplotlib.axes._subplots.AxesSubplot object at 0x000000000B5B1DA0>,\n",
       "        <matplotlib.axes._subplots.AxesSubplot object at 0x000000000B1141D0>],\n",
       "       [<matplotlib.axes._subplots.AxesSubplot object at 0x000000000D52BD68>,\n",
       "        <matplotlib.axes._subplots.AxesSubplot object at 0x000000000C1644A8>]], dtype=object)"
      ]
     },
     "execution_count": 7,
     "metadata": {},
     "output_type": "execute_result"
    },
    {
     "data": {
      "image/png": "[encoded data removed]",
      "text/plain": [
       "<matplotlib.figure.Figure at 0xb9c7198>"
      ]
     },
     "metadata": {},
     "output_type": "display_data"
    }
   ],
   "source": [
    "# log transform to make the target more normal\n",
    "matplotlib.rcParams['figure.figsize'] = (12, 6)\n",
    "prices = pd.DataFrame({'cc1 Price': bank_df['cc1 total cost %'], \n",
    "                      'log(cc1 price+1)': np.log1p(bank_df['cc1 total cost %']),\n",
    "                      'cc2 Price': bank_df['cc2 total cost %'], \n",
    "                      'log(cc2 price+1)': np.log1p(bank_df['cc2 total cost %'])})\n",
    "prices.hist()"
   ]
  },
  {
   "cell_type": "code",
   "execution_count": 8,
   "metadata": {
    "collapsed": true
   },
   "outputs": [],
   "source": [
    "#bank_df.loc[bank_df['cc1 total cost %']<0]['cc1 total cost %']\n",
    "bank_df = bank_df.drop(bank_df.loc[bank_df['cc1 total cost %']<0].index)\n",
    "bank_df = bank_df.drop(bank_df.loc[bank_df['cc2 total cost %']<0].index)"
   ]
  },
  {
   "cell_type": "code",
   "execution_count": 9,
   "metadata": {
    "collapsed": false
   },
   "outputs": [
    {
     "data": {
      "text/plain": [
       "Index(['cc1 lcu amount', 'cc1 denomination amount', 'cc1 lcu fee',\n",
       "       'cc1 lcu fx rate', 'cc1 fx margin', 'cc1 total cost %',\n",
       "       'cc2 lcu amount', 'cc2 denomination amount', 'cc2 lcu fee',\n",
       "       'cc2 lcu fx rate', 'cc2 fx margin', 'cc2 total cost %',\n",
       "       'inter lcu bank fx'],\n",
       "      dtype='object')"
      ]
     },
     "execution_count": 9,
     "metadata": {},
     "output_type": "execute_result"
    }
   ],
   "source": [
    "# log transform skewed numeric feature\n",
    "numeric_feats = bank_df.dtypes[bank_df.dtypes != object].index\n",
    "skewed_feats = bank_df[numeric_feats].apply(lambda x: skew(x.dropna()))  # compute skewness\n",
    "skewed_feats = skewed_feats[skewed_feats > .75]\n",
    "skewed_feats = skewed_feats.index\n",
    "skewed_feats"
   ]
  },
  {
   "cell_type": "code",
   "execution_count": 10,
   "metadata": {
    "collapsed": true
   },
   "outputs": [],
   "source": [
    "bank_df[skewed_feats] = np.log1p(bank_df[skewed_feats])"
   ]
  },
  {
   "cell_type": "code",
   "execution_count": 11,
   "metadata": {
    "collapsed": true
   },
   "outputs": [],
   "source": [
    "price_cc1 = bank_df['cc1 total cost %']\n",
    "price_cc2 = bank_df['cc2 total cost %']"
   ]
  },
  {
   "cell_type": "code",
   "execution_count": 12,
   "metadata": {
    "collapsed": true
   },
   "outputs": [],
   "source": [
    "# drop two features with large amount of missing values\n",
    "bank_df = bank_df.drop(['note1', 'note2'], axis=1)"
   ]
  },
  {
   "cell_type": "code",
   "execution_count": 13,
   "metadata": {
    "collapsed": true
   },
   "outputs": [],
   "source": [
    "bank_df.drop(['source_code', 'destination_code'], axis=1, inplace=True)\n",
    "bank_df['destination_region'] = bank_df['destination_region'].replace({'..': 'Other'})\n",
    "bank_df.drop(['source_region', 'source_lending', 'cc1 denomination amount', 'cc2 denomination amount'], axis=1, inplace=True)\n"
   ]
  },
  {
   "cell_type": "code",
   "execution_count": 14,
   "metadata": {
    "collapsed": true
   },
   "outputs": [],
   "source": [
    "bank_df['date'] = pd.to_datetime(bank_df['date'])\n",
    "bank_df['date']=bank_df['date'].map(dt.datetime.toordinal)\n",
    "bank_df['date'] = (bank_df['date'] - bank_df['date'].mean()) / np.std(bank_df['date'])\n"
   ]
  },
  {
   "cell_type": "code",
   "execution_count": 18,
   "metadata": {
    "collapsed": false
   },
   "outputs": [],
   "source": [
    "bank_df.drop(['id', 'cc1 total cost %', 'cc2 total cost %', 'cc2 lcu amount', 'cc2 lcu fee', 'cc2 lcu fx rate', 'cc2 fx margin', 'cc2 total cost %'], axis=1, inplace=True)\n",
    "bank_df.drop(['firm', 'pick-up method'], axis = 1, inplace=True)\n",
    "bank_df.drop(['cc1 lcu code'], axis = 1, inplace=True)\n",
    "bank_df.drop(['source_name', 'cc2 lcu code', 'destination_name'], axis = 1, inplace=True)"
   ]
  },
  {
   "cell_type": "code",
   "execution_count": 19,
   "metadata": {
    "collapsed": false
   },
   "outputs": [
    {
     "data": {
      "text/plain": [
       "(39643, 19)"
      ]
     },
     "execution_count": 19,
     "metadata": {},
     "output_type": "execute_result"
    }
   ],
   "source": [
    "bank_df.shape"
   ]
  },
  {
   "cell_type": "code",
   "execution_count": 20,
   "metadata": {
    "collapsed": false
   },
   "outputs": [
    {
     "data": {
      "text/plain": [
       "Index(['period', 'source_income', 'source_G8G20', 'destination_region',\n",
       "       'destination_income', 'destination_lending', 'destination_G8G20',\n",
       "       'firm_type', 'product', 'sending location', 'speed actual',\n",
       "       'cc1 lcu amount', 'cc1 lcu fee', 'cc1 lcu fx rate', 'cc1 fx margin',\n",
       "       'inter lcu bank fx', 'transparent', 'coverage', 'date'],\n",
       "      dtype='object')"
      ]
     },
     "execution_count": 20,
     "metadata": {},
     "output_type": "execute_result"
    }
   ],
   "source": [
    "bank_df.columns"
   ]
  },
  {
   "cell_type": "code",
   "execution_count": 21,
   "metadata": {
    "collapsed": false
   },
   "outputs": [
    {
     "data": {
      "text/plain": [
       "IBRD     24140\n",
       "IDA       9605\n",
       "Blend     5350\n",
       "..         548\n",
       "Name: destination_lending, dtype: int64"
      ]
     },
     "execution_count": 21,
     "metadata": {},
     "output_type": "execute_result"
    }
   ],
   "source": [
    "bank_df['destination_lending'].value_counts()"
   ]
  },
  {
   "cell_type": "code",
   "execution_count": 22,
   "metadata": {
    "collapsed": true
   },
   "outputs": [],
   "source": [
    "bank_df = pd.get_dummies(bank_df)"
   ]
  },
  {
   "cell_type": "code",
   "execution_count": 23,
   "metadata": {
    "collapsed": true
   },
   "outputs": [],
   "source": [
    "bank_df[bank_df==-np.inf]=0\n",
    "bank_df = bank_df.fillna(bank_df.mean())"
   ]
  },
  {
   "cell_type": "code",
   "execution_count": 24,
   "metadata": {
    "collapsed": false
   },
   "outputs": [
    {
     "data": {
      "text/html": [
       "<div>\n",
       "<table border=\"1\" class=\"dataframe\">\n",
       "  <thead>\n",
       "    <tr style=\"text-align: right;\">\n",
       "      <th></th>\n",
       "      <th>cc1 lcu amount</th>\n",
       "      <th>cc1 lcu fee</th>\n",
       "      <th>cc1 lcu fx rate</th>\n",
       "      <th>cc1 fx margin</th>\n",
       "      <th>inter lcu bank fx</th>\n",
       "      <th>date</th>\n",
       "      <th>period_2011_1Q</th>\n",
       "      <th>period_2011_3Q</th>\n",
       "      <th>period_2012_1Q</th>\n",
       "      <th>period_2012_3Q</th>\n",
       "      <th>...</th>\n",
       "      <th>speed actual_Less than one hour</th>\n",
       "      <th>speed actual_Next day</th>\n",
       "      <th>speed actual_Same day</th>\n",
       "      <th>transparent_no</th>\n",
       "      <th>transparent_yes</th>\n",
       "      <th>coverage_Main city</th>\n",
       "      <th>coverage_Major cities</th>\n",
       "      <th>coverage_Nationwide</th>\n",
       "      <th>coverage_Rural only</th>\n",
       "      <th>coverage_Urban only</th>\n",
       "    </tr>\n",
       "  </thead>\n",
       "  <tbody>\n",
       "    <tr>\n",
       "      <th>0</th>\n",
       "      <td>5.303305</td>\n",
       "      <td>2.484907</td>\n",
       "      <td>1.018847</td>\n",
       "      <td>1.456287</td>\n",
       "      <td>1.040362</td>\n",
       "      <td>-2.041133</td>\n",
       "      <td>1.0</td>\n",
       "      <td>0.0</td>\n",
       "      <td>0.0</td>\n",
       "      <td>0.0</td>\n",
       "      <td>...</td>\n",
       "      <td>1.0</td>\n",
       "      <td>0.0</td>\n",
       "      <td>0.0</td>\n",
       "      <td>0.0</td>\n",
       "      <td>1.0</td>\n",
       "      <td>0.0</td>\n",
       "      <td>0.0</td>\n",
       "      <td>1.0</td>\n",
       "      <td>0.0</td>\n",
       "      <td>0.0</td>\n",
       "    </tr>\n",
       "    <tr>\n",
       "      <th>1</th>\n",
       "      <td>5.303305</td>\n",
       "      <td>2.564949</td>\n",
       "      <td>1.018030</td>\n",
       "      <td>1.486140</td>\n",
       "      <td>1.040362</td>\n",
       "      <td>-2.041133</td>\n",
       "      <td>1.0</td>\n",
       "      <td>0.0</td>\n",
       "      <td>0.0</td>\n",
       "      <td>0.0</td>\n",
       "      <td>...</td>\n",
       "      <td>1.0</td>\n",
       "      <td>0.0</td>\n",
       "      <td>0.0</td>\n",
       "      <td>0.0</td>\n",
       "      <td>1.0</td>\n",
       "      <td>0.0</td>\n",
       "      <td>0.0</td>\n",
       "      <td>1.0</td>\n",
       "      <td>0.0</td>\n",
       "      <td>0.0</td>\n",
       "    </tr>\n",
       "    <tr>\n",
       "      <th>2</th>\n",
       "      <td>5.303305</td>\n",
       "      <td>2.772589</td>\n",
       "      <td>1.011601</td>\n",
       "      <td>1.682688</td>\n",
       "      <td>1.040362</td>\n",
       "      <td>-2.041133</td>\n",
       "      <td>1.0</td>\n",
       "      <td>0.0</td>\n",
       "      <td>0.0</td>\n",
       "      <td>0.0</td>\n",
       "      <td>...</td>\n",
       "      <td>0.0</td>\n",
       "      <td>0.0</td>\n",
       "      <td>1.0</td>\n",
       "      <td>0.0</td>\n",
       "      <td>1.0</td>\n",
       "      <td>0.0</td>\n",
       "      <td>0.0</td>\n",
       "      <td>1.0</td>\n",
       "      <td>0.0</td>\n",
       "      <td>0.0</td>\n",
       "    </tr>\n",
       "    <tr>\n",
       "      <th>3</th>\n",
       "      <td>5.303305</td>\n",
       "      <td>3.044522</td>\n",
       "      <td>1.026543</td>\n",
       "      <td>1.137833</td>\n",
       "      <td>1.040362</td>\n",
       "      <td>-2.041133</td>\n",
       "      <td>1.0</td>\n",
       "      <td>0.0</td>\n",
       "      <td>0.0</td>\n",
       "      <td>0.0</td>\n",
       "      <td>...</td>\n",
       "      <td>0.0</td>\n",
       "      <td>0.0</td>\n",
       "      <td>0.0</td>\n",
       "      <td>0.0</td>\n",
       "      <td>1.0</td>\n",
       "      <td>0.0</td>\n",
       "      <td>0.0</td>\n",
       "      <td>1.0</td>\n",
       "      <td>0.0</td>\n",
       "      <td>0.0</td>\n",
       "    </tr>\n",
       "    <tr>\n",
       "      <th>4</th>\n",
       "      <td>5.303305</td>\n",
       "      <td>3.044522</td>\n",
       "      <td>1.016751</td>\n",
       "      <td>1.528228</td>\n",
       "      <td>1.040362</td>\n",
       "      <td>-2.041133</td>\n",
       "      <td>1.0</td>\n",
       "      <td>0.0</td>\n",
       "      <td>0.0</td>\n",
       "      <td>0.0</td>\n",
       "      <td>...</td>\n",
       "      <td>0.0</td>\n",
       "      <td>0.0</td>\n",
       "      <td>0.0</td>\n",
       "      <td>0.0</td>\n",
       "      <td>1.0</td>\n",
       "      <td>0.0</td>\n",
       "      <td>0.0</td>\n",
       "      <td>1.0</td>\n",
       "      <td>0.0</td>\n",
       "      <td>0.0</td>\n",
       "    </tr>\n",
       "  </tbody>\n",
       "</table>\n",
       "<p>5 rows × 111 columns</p>\n",
       "</div>"
      ],
      "text/plain": [
       "   cc1 lcu amount  cc1 lcu fee  cc1 lcu fx rate  cc1 fx margin  \\\n",
       "0        5.303305     2.484907         1.018847       1.456287   \n",
       "1        5.303305     2.564949         1.018030       1.486140   \n",
       "2        5.303305     2.772589         1.011601       1.682688   \n",
       "3        5.303305     3.044522         1.026543       1.137833   \n",
       "4        5.303305     3.044522         1.016751       1.528228   \n",
       "\n",
       "   inter lcu bank fx      date  period_2011_1Q  period_2011_3Q  \\\n",
       "0           1.040362 -2.041133             1.0             0.0   \n",
       "1           1.040362 -2.041133             1.0             0.0   \n",
       "2           1.040362 -2.041133             1.0             0.0   \n",
       "3           1.040362 -2.041133             1.0             0.0   \n",
       "4           1.040362 -2.041133             1.0             0.0   \n",
       "\n",
       "   period_2012_1Q  period_2012_3Q         ...           \\\n",
       "0             0.0             0.0         ...            \n",
       "1             0.0             0.0         ...            \n",
       "2             0.0             0.0         ...            \n",
       "3             0.0             0.0         ...            \n",
       "4             0.0             0.0         ...            \n",
       "\n",
       "   speed actual_Less than one hour  speed actual_Next day  \\\n",
       "0                              1.0                    0.0   \n",
       "1                              1.0                    0.0   \n",
       "2                              0.0                    0.0   \n",
       "3                              0.0                    0.0   \n",
       "4                              0.0                    0.0   \n",
       "\n",
       "   speed actual_Same day  transparent_no  transparent_yes  coverage_Main city  \\\n",
       "0                    0.0             0.0              1.0                 0.0   \n",
       "1                    0.0             0.0              1.0                 0.0   \n",
       "2                    1.0             0.0              1.0                 0.0   \n",
       "3                    0.0             0.0              1.0                 0.0   \n",
       "4                    0.0             0.0              1.0                 0.0   \n",
       "\n",
       "   coverage_Major cities  coverage_Nationwide  coverage_Rural only  \\\n",
       "0                    0.0                  1.0                  0.0   \n",
       "1                    0.0                  1.0                  0.0   \n",
       "2                    0.0                  1.0                  0.0   \n",
       "3                    0.0                  1.0                  0.0   \n",
       "4                    0.0                  1.0                  0.0   \n",
       "\n",
       "   coverage_Urban only  \n",
       "0                  0.0  \n",
       "1                  0.0  \n",
       "2                  0.0  \n",
       "3                  0.0  \n",
       "4                  0.0  \n",
       "\n",
       "[5 rows x 111 columns]"
      ]
     },
     "execution_count": 24,
     "metadata": {},
     "output_type": "execute_result"
    }
   ],
   "source": [
    "bank_df.head()"
   ]
  },
  {
   "cell_type": "code",
   "execution_count": 57,
   "metadata": {
    "collapsed": true
   },
   "outputs": [],
   "source": [
    "import sklearn\n",
    "from sklearn import cross_validation\n",
    "from sklearn.cross_validation import cross_val_score\n",
    "from sklearn.cross_validation import KFold\n",
    "from sklearn.ensemble import RandomForestRegressor\n",
    "from sklearn.ensemble import GradientBoostingRegressor\n",
    "from sklearn.ensemble import AdaBoostRegressor\n",
    "from sklearn.metrics import mean_squared_error\n",
    "from sklearn import metrics\n",
    "from sklearn.linear_model import LinearRegression, Ridge, RidgeCV, ElasticNet, LassoCV, Lasso\n",
    "from math import sqrt"
   ]
  },
  {
   "cell_type": "code",
   "execution_count": 26,
   "metadata": {
    "collapsed": true
   },
   "outputs": [],
   "source": [
    "def rmse_cv(model):\n",
    "    rmse = np.sqrt(-cross_val_score(model, bank_df, price_cc1, \n",
    "                                    scoring='mean_squared_error', cv=5))\n",
    "    return rmse"
   ]
  },
  {
   "cell_type": "code",
   "execution_count": 33,
   "metadata": {
    "collapsed": false
   },
   "outputs": [
    {
     "name": "stdout",
     "output_type": "stream",
     "text": [
      "0.05 0.281564402097\n",
      "0.1 0.28094100407\n",
      "0.3 0.279227722308\n",
      "1 0.277085974493\n",
      "3 0.276602129563\n",
      "5 0.276811509543\n",
      "10 0.27712003674\n",
      "15 0.277213604142\n",
      "30 0.277195862558\n",
      "50 0.277095656731\n",
      "75 0.277012961066\n"
     ]
    }
   ],
   "source": [
    "# Ridge Regession\n",
    "model_ridge = Ridge()\n",
    "alphas = [0.05, 0.1, 0.3, 1, 3, 5, 10, 15, 30, 50, 75]\n",
    "cv_ridge = [rmse_cv(Ridge(alpha=alpha)).mean() for alpha in alphas]\n",
    "for i in range(len(alphas)):\n",
    "    print (alphas[i], cv_ridge[i])"
   ]
  },
  {
   "cell_type": "markdown",
   "metadata": {},
   "source": [
    "Ridge regression has alpha 3 and rmse = 0.2766"
   ]
  },
  {
   "cell_type": "code",
   "execution_count": 37,
   "metadata": {
    "collapsed": false
   },
   "outputs": [
    {
     "name": "stdout",
     "output_type": "stream",
     "text": [
      "[ 0.27954525  0.2922525   0.29700625  0.310239    0.27869306]\n"
     ]
    }
   ],
   "source": [
    "# Lasso Regression\n",
    "alphas = [1, 0.001, 0.0001, 0.0005, 0.0003]\n",
    "model_lasso = LassoCV(alphas = alphas, max_iter = 10000, normalize= True).fit(bank_df, price_cc1)\n",
    "cv_lasso = rmse_cv(model_lasso)\n",
    "print (cv_lasso)"
   ]
  },
  {
   "cell_type": "code",
   "execution_count": 38,
   "metadata": {
    "collapsed": true
   },
   "outputs": [],
   "source": [
    "# coefficients:\n",
    "coef = pd.Series(model_lasso.coef_, index=bank_df.columns)"
   ]
  },
  {
   "cell_type": "code",
   "execution_count": 39,
   "metadata": {
    "collapsed": false
   },
   "outputs": [
    {
     "name": "stdout",
     "output_type": "stream",
     "text": [
      "Lasso picked features: 18 features and eliminated the other 93 features.\n"
     ]
    }
   ],
   "source": [
    "print ('Lasso picked features: ' + str(sum(coef!=0)) + ' features and eliminated the other ' \n",
    "       + str(sum(coef == 0)) + ' features.')"
   ]
  },
  {
   "cell_type": "code",
   "execution_count": 40,
   "metadata": {
    "collapsed": false
   },
   "outputs": [
    {
     "data": {
      "text/plain": [
       "<matplotlib.text.Text at 0xb9ab7f0>"
      ]
     },
     "execution_count": 40,
     "metadata": {},
     "output_type": "execute_result"
    },
    {
     "data": {
      "image/png": "[encoded data removed]",
      "text/plain": [
       "<matplotlib.figure.Figure at 0xb9b6438>"
      ]
     },
     "metadata": {},
     "output_type": "display_data"
    }
   ],
   "source": [
    "principal_coef = pd.concat([coef.sort_values().head(10), coef.sort_values().tail(10)])\n",
    "matplotlib.rcParams['figure.figsize'] = (8, 10)\n",
    "principal_coef.plot(kind='barh')\n",
    "plt.title('Coefficients in the Lasso Model')"
   ]
  },
  {
   "cell_type": "code",
   "execution_count": 44,
   "metadata": {
    "collapsed": true
   },
   "outputs": [],
   "source": [
    "seed = 7\n",
    "kfold = KFold(bank_df.shape[0], n_folds = 10, random_state=seed)"
   ]
  },
  {
   "cell_type": "markdown",
   "metadata": {},
   "source": [
    "# Ridge regression"
   ]
  },
  {
   "cell_type": "code",
   "execution_count": 48,
   "metadata": {
    "collapsed": false
   },
   "outputs": [
    {
     "name": "stdout",
     "output_type": "stream",
     "text": [
      "0.827424496197\n"
     ]
    }
   ],
   "source": [
    "model_ridge = Ridge(alpha=3) # alpha = 3 is based on the previous calculation\n",
    "model_ridge.fit(bank_df, price_cc1)\n",
    "#pred_test = model_ridge.predict(X_test)\n",
    "results = cross_validation.cross_val_score(model_ridge, bank_df, price_cc1, cv=kfold)\n",
    "print (results.mean())"
   ]
  },
  {
   "cell_type": "markdown",
   "metadata": {},
   "source": [
    "# Lasso Regression"
   ]
  },
  {
   "cell_type": "code",
   "execution_count": 49,
   "metadata": {
    "collapsed": false
   },
   "outputs": [
    {
     "name": "stdout",
     "output_type": "stream",
     "text": [
      "0.824476957946\n"
     ]
    }
   ],
   "source": [
    "model_lasso = Lasso(alpha=0.001)\n",
    "model_lasso.fit(bank_df, price_cc1)\n",
    "results = cross_validation.cross_val_score(model_lasso, bank_df, price_cc1, cv=kfold)\n",
    "print (results.mean())"
   ]
  },
  {
   "cell_type": "markdown",
   "metadata": {},
   "source": [
    "# ElasticNet Regression"
   ]
  },
  {
   "cell_type": "code",
   "execution_count": 53,
   "metadata": {
    "collapsed": false
   },
   "outputs": [
    {
     "name": "stdout",
     "output_type": "stream",
     "text": [
      "0.816175423416\n"
     ]
    }
   ],
   "source": [
    "model_elastic = ElasticNet(alpha=0.01)\n",
    "model_elastic.fit(bank_df, price_cc1)\n",
    "results = cross_validation.cross_val_score(model_elastic, bank_df, price_cc1, cv=kfold)\n",
    "print (results.mean())"
   ]
  },
  {
   "cell_type": "markdown",
   "metadata": {},
   "source": [
    "# Ensemble method"
   ]
  },
  {
   "cell_type": "code",
   "execution_count": null,
   "metadata": {
    "collapsed": true
   },
   "outputs": [],
   "source": [
    "from sklearn.ensemble import BaggingRegressor\n",
    "from sklearn.tree import DecisionTreeRegressor"
   ]
  },
  {
   "cell_type": "code",
   "execution_count": null,
   "metadata": {
    "collapsed": false
   },
   "outputs": [],
   "source": [
    "seed = 7\n",
    "kfold = KFold(bank_df.shape[0], n_folds = 10, random_state=seed)\n"
   ]
  },
  {
   "cell_type": "code",
   "execution_count": null,
   "metadata": {
    "collapsed": true
   },
   "outputs": [],
   "source": [
    "cart = DecisionTreeRegressor()"
   ]
  },
  {
   "cell_type": "code",
   "execution_count": null,
   "metadata": {
    "collapsed": false
   },
   "outputs": [],
   "source": [
    "num_trees = 100\n",
    "model = BaggingRegressor(base_estimator=cart, n_estimators=num_trees, random_state=seed)\n",
    "result = cross_validation.cross_val_score(model, bank_df, price_cc1, cv=kfold)\n",
    "print (result.mean())"
   ]
  },
  {
   "cell_type": "markdown",
   "metadata": {},
   "source": [
    "# Random Forest Regression"
   ]
  },
  {
   "cell_type": "code",
   "execution_count": 54,
   "metadata": {
    "collapsed": false
   },
   "outputs": [],
   "source": [
    "num_trees = 100\n",
    "max_features = 10\n",
    "rf_model = RandomForestRegressor(n_estimators=num_trees, max_features=max_features)\n",
    "results = cross_validation.cross_val_score(rf_model, bank_df, price_cc1, cv=kfold)\n"
   ]
  },
  {
   "cell_type": "code",
   "execution_count": 56,
   "metadata": {
    "collapsed": false
   },
   "outputs": [
    {
     "name": "stdout",
     "output_type": "stream",
     "text": [
      "0.952055050675\n"
     ]
    }
   ],
   "source": [
    "print (results.mean())"
   ]
  },
  {
   "cell_type": "markdown",
   "metadata": {},
   "source": [
    "# Boosting Algorithms"
   ]
  },
  {
   "cell_type": "code",
   "execution_count": 58,
   "metadata": {
    "collapsed": false
   },
   "outputs": [
    {
     "name": "stdout",
     "output_type": "stream",
     "text": [
      "0.65225355977\n"
     ]
    }
   ],
   "source": [
    "# AdaBoost AdaBoostRegressor\n",
    "num_trees = 100\n",
    "adabr_model = AdaBoostRegressor(n_estimators=num_trees, random_state=0)\n",
    "results = cross_validation.cross_val_score(adabr_model, bank_df, price_cc1, cv=kfold)\n",
    "print (results.mean())"
   ]
  },
  {
   "cell_type": "markdown",
   "metadata": {},
   "source": [
    "# GradentBoostingRegressor"
   ]
  },
  {
   "cell_type": "code",
   "execution_count": 63,
   "metadata": {
    "collapsed": false
   },
   "outputs": [
    {
     "name": "stdout",
     "output_type": "stream",
     "text": [
      "0.957146965113\n"
     ]
    }
   ],
   "source": [
    "gbr_model = GradientBoostingRegressor(n_estimators=num_trees, random_state=0)\n",
    "results = cross_validation.cross_val_score(gbr_model, bank_df, price_cc1, cv=kfold)\n",
    "print (results.mean())"
   ]
  },
  {
   "cell_type": "code",
   "execution_count": 65,
   "metadata": {
    "collapsed": false
   },
   "outputs": [
    {
     "data": {
      "text/plain": [
       "GradientBoostingRegressor(alpha=0.9, init=None, learning_rate=0.1, loss='ls',\n",
       "             max_depth=3, max_features=None, max_leaf_nodes=None,\n",
       "             min_samples_leaf=1, min_samples_split=2,\n",
       "             min_weight_fraction_leaf=0.0, n_estimators=100,\n",
       "             presort='auto', random_state=0, subsample=1.0, verbose=0,\n",
       "             warm_start=False)"
      ]
     },
     "execution_count": 65,
     "metadata": {},
     "output_type": "execute_result"
    }
   ],
   "source": [
    "gbr_model.fit(bank_df, price_cc1)"
   ]
  },
  {
   "cell_type": "code",
   "execution_count": 66,
   "metadata": {
    "collapsed": false
   },
   "outputs": [
    {
     "data": {
      "image/png": "[encoded data removed]",
      "text/plain": [
       "<matplotlib.figure.Figure at 0xba0d898>"
      ]
     },
     "metadata": {},
     "output_type": "display_data"
    }
   ],
   "source": [
    "# top 10 importance variables\n",
    "feature_importance = gbr_model.feature_importances_\n",
    "\n",
    "# make importances relative to max importance\n",
    "feature_importance = 100.0 * (feature_importance / feature_importance.max())\n",
    "sorted_idx = np.argsort(feature_importance)\n",
    "#pos = np.arange(sorted_idx.shape[0]) + .5\n",
    "pos = np.arange(10)+.5\n",
    "plt.subplot(1, 2, 2)\n",
    "plt.barh(pos, feature_importance[sorted_idx][-10:], align='center')\n",
    "plt.yticks(pos, bank_df.columns[sorted_idx][-10:])\n",
    "plt.xlabel('Relative Importance')\n",
    "plt.title('Variable Importance')\n",
    "plt.show()"
   ]
  },
  {
   "cell_type": "code",
   "execution_count": null,
   "metadata": {
    "collapsed": false
   },
   "outputs": [],
   "source": [
    "feature_importance[sorted_idx][sorted_idx.shape[0]-10:]"
   ]
  },
  {
   "cell_type": "code",
   "execution_count": null,
   "metadata": {
    "collapsed": true
   },
   "outputs": [],
   "source": []
  }
 ],
 "metadata": {
  "anaconda-cloud": {},
  "kernelspec": {
   "display_name": "Python [default]",
   "language": "python",
   "name": "python3"
  },
  "language_info": {
   "codemirror_mode": {
    "name": "ipython",
    "version": 3
   },
   "file_extension": ".py",
   "mimetype": "text/x-python",
   "name": "python",
   "nbconvert_exporter": "python",
   "pygments_lexer": "ipython3",
   "version": "3.5.2"
  }
 },
 "nbformat": 4,
 "nbformat_minor": 1
}
